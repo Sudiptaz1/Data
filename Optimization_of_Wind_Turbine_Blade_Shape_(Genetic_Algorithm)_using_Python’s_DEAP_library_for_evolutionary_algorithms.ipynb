{
  "nbformat": 4,
  "nbformat_minor": 0,
  "metadata": {
    "colab": {
      "provenance": [],
      "authorship_tag": "ABX9TyMhHMrzHjch87/2mgDXKoo4",
      "include_colab_link": true
    },
    "kernelspec": {
      "name": "python3",
      "display_name": "Python 3"
    },
    "language_info": {
      "name": "python"
    }
  },
  "cells": [
    {
      "cell_type": "markdown",
      "metadata": {
        "id": "view-in-github",
        "colab_type": "text"
      },
      "source": [
        "<a href=\"https://colab.research.google.com/github/Sudiptaz1/Data/blob/main/Optimization_of_Wind_Turbine_Blade_Shape_(Genetic_Algorithm)_using_Python%E2%80%99s_DEAP_library_for_evolutionary_algorithms.ipynb\" target=\"_parent\"><img src=\"https://colab.research.google.com/assets/colab-badge.svg\" alt=\"Open In Colab\"/></a>"
      ]
    },
    {
      "cell_type": "code",
      "source": [
        "!pip install deap\n"
      ],
      "metadata": {
        "colab": {
          "base_uri": "https://localhost:8080/"
        },
        "id": "Y5O0o16I3iTi",
        "outputId": "91f89c63-cdea-4948-fe3c-8f7076724021"
      },
      "execution_count": 2,
      "outputs": [
        {
          "output_type": "stream",
          "name": "stdout",
          "text": [
            "Collecting deap\n",
            "  Downloading deap-1.4.2-cp311-cp311-manylinux_2_5_x86_64.manylinux1_x86_64.manylinux_2_17_x86_64.manylinux2014_x86_64.whl.metadata (13 kB)\n",
            "Requirement already satisfied: numpy in /usr/local/lib/python3.11/dist-packages (from deap) (1.26.4)\n",
            "Downloading deap-1.4.2-cp311-cp311-manylinux_2_5_x86_64.manylinux1_x86_64.manylinux_2_17_x86_64.manylinux2014_x86_64.whl (135 kB)\n",
            "\u001b[?25l   \u001b[90m━━━━━━━━━━━━━━━━━━━━━━━━━━━━━━━━━━━━━━━━\u001b[0m \u001b[32m0.0/135.4 kB\u001b[0m \u001b[31m?\u001b[0m eta \u001b[36m-:--:--\u001b[0m\r\u001b[2K   \u001b[90m━━━━━━━━━━━━━━━━━━━━━━━━━━━━━━━━━━━━━━━━\u001b[0m \u001b[32m135.4/135.4 kB\u001b[0m \u001b[31m8.9 MB/s\u001b[0m eta \u001b[36m0:00:00\u001b[0m\n",
            "\u001b[?25hInstalling collected packages: deap\n",
            "Successfully installed deap-1.4.2\n"
          ]
        }
      ]
    },
    {
      "cell_type": "code",
      "execution_count": 3,
      "metadata": {
        "colab": {
          "base_uri": "https://localhost:8080/"
        },
        "id": "GlMUGZ8y2_qc",
        "outputId": "cb451b0b-d699-4e5d-aa8d-dd72feaaadc2"
      },
      "outputs": [
        {
          "output_type": "stream",
          "name": "stdout",
          "text": [
            "gen\tnevals\n",
            "0  \t50    \n",
            "1  \t36    \n",
            "2  \t35    \n",
            "3  \t41    \n",
            "4  \t41    \n",
            "5  \t35    \n",
            "6  \t38    \n",
            "7  \t35    \n",
            "8  \t36    \n",
            "9  \t37    \n",
            "10 \t42    \n",
            "11 \t33    \n",
            "12 \t35    \n",
            "13 \t37    \n",
            "14 \t36    \n",
            "15 \t40    \n",
            "16 \t37    \n",
            "17 \t35    \n",
            "18 \t40    \n",
            "19 \t42    \n",
            "20 \t46    \n",
            "Best Blade Shape Parameters: [10.942050962315353, 1.3355926235556526, 33.09824939783769, 13.25128957614903, 2.2331021269676823, 18.3232665296355]\n",
            "Best Power Output: 621.7275035895583\n"
          ]
        }
      ],
      "source": [
        "import random\n",
        "import numpy as np\n",
        "from deap import base, creator, tools, algorithms\n",
        "\n",
        "# Step 1: Define the blade shape parameters\n",
        "# Example: Chord length, twist angle, and airfoil thickness at 3 points along the blade\n",
        "NUM_PARAMS = 6  # 3 points * (chord + twist + thickness)\n",
        "\n",
        "# Step 2: Define the fitness function\n",
        "def evaluate_blade(individual):\n",
        "    \"\"\"\n",
        "    Evaluate the performance of a blade shape.\n",
        "    individual: List of parameters defining the blade shape.\n",
        "    Returns the power output (to be maximized).\n",
        "    \"\"\"\n",
        "    # Extract parameters\n",
        "    chord = individual[0::3]  # Chord length at 3 points\n",
        "    twist = individual[1::3]  # Twist angle at 3 points\n",
        "    thickness = individual[2::3]  # Airfoil thickness at 3 points\n",
        "\n",
        "    # Simulate the blade performance (placeholder for actual simulation)\n",
        "    # Replace this with a call to XFOIL, OpenFAST, or another simulation tool\n",
        "    power_output = simulate_blade_performance(chord, twist, thickness)\n",
        "\n",
        "    return (power_output,)  # Return as a tuple\n",
        "\n",
        "def simulate_blade_performance(chord, twist, thickness):\n",
        "    \"\"\"\n",
        "    Placeholder function for simulating blade performance.\n",
        "    Replace this with actual simulation code.\n",
        "    \"\"\"\n",
        "    # Example: A simple heuristic for power output\n",
        "    power_output = np.sum(chord) * np.cos(np.radians(np.mean(twist))) * np.mean(thickness)\n",
        "    return power_output\n",
        "\n",
        "# Step 3: Set up the Genetic Algorithm using DEAP\n",
        "creator.create(\"FitnessMax\", base.Fitness, weights=(1.0,))  # Maximize power output\n",
        "creator.create(\"Individual\", list, fitness=creator.FitnessMax)\n",
        "\n",
        "toolbox = base.Toolbox()\n",
        "\n",
        "# Define the gene pool\n",
        "toolbox.register(\"attr_float\", random.uniform, 0.1, 10.0)  # Random values for parameters\n",
        "\n",
        "# Define the individual and population\n",
        "toolbox.register(\"individual\", tools.initRepeat, creator.Individual, toolbox.attr_float, n=NUM_PARAMS)\n",
        "toolbox.register(\"population\", tools.initRepeat, list, toolbox.individual)\n",
        "\n",
        "# Register the evaluation, crossover, mutation, and selection functions\n",
        "toolbox.register(\"evaluate\", evaluate_blade)\n",
        "toolbox.register(\"mate\", tools.cxBlend, alpha=0.5)  # Blend crossover\n",
        "toolbox.register(\"mutate\", tools.mutGaussian, mu=0, sigma=1, indpb=0.2)  # Gaussian mutation\n",
        "toolbox.register(\"select\", tools.selTournament, tournsize=3)  # Tournament selection\n",
        "\n",
        "# Step 4: Run the Genetic Algorithm\n",
        "def main():\n",
        "    random.seed(42)  # For reproducibility\n",
        "    population = toolbox.population(n=50)  # Population size\n",
        "    ngen = 20  # Number of generations\n",
        "    cxpb = 0.7  # Crossover probability\n",
        "    mutpb = 0.2  # Mutation probability\n",
        "\n",
        "    # Run the GA\n",
        "    algorithms.eaSimple(population, toolbox, cxpb, mutpb, ngen, verbose=True)\n",
        "\n",
        "    # Extract the best individual\n",
        "    best_individual = tools.selBest(population, k=1)[0]\n",
        "    print(\"Best Blade Shape Parameters:\", best_individual)\n",
        "    print(\"Best Power Output:\", evaluate_blade(best_individual)[0])\n",
        "\n",
        "if __name__ == \"__main__\":\n",
        "    main()"
      ]
    }
  ]
}